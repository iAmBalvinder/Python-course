{
  "nbformat": 4,
  "nbformat_minor": 0,
  "metadata": {
    "colab": {
      "name": "Assignment 02.ipynb",
      "provenance": [],
      "private_outputs": true,
      "collapsed_sections": []
    },
    "kernelspec": {
      "name": "python3",
      "display_name": "Python 3"
    }
  },
  "cells": [
    {
      "cell_type": "markdown",
      "metadata": {
        "id": "gUxIfZTqctJk",
        "colab_type": "text"
      },
      "source": [
        "#Task 1"
      ]
    },
    {
      "cell_type": "markdown",
      "metadata": {
        "id": "2eVQoAGrcti7",
        "colab_type": "text"
      },
      "source": [
        "1.1\n",
        "Write a Python Program to implement your own myreduce() function which works exactly like\n",
        "Python's built-in function reduce()"
      ]
    },
    {
      "cell_type": "code",
      "metadata": {
        "id": "DQg4biAcezsy",
        "colab_type": "code",
        "colab": {}
      },
      "source": [
        ""
      ],
      "execution_count": 0,
      "outputs": []
    },
    {
      "cell_type": "markdown",
      "metadata": {
        "id": "MygG6LGqctgJ",
        "colab_type": "text"
      },
      "source": [
        "1.2\n",
        "Write a Python program to implement your own myfilter() function which works exactly like\n",
        "Python's built-in function filter()"
      ]
    },
    {
      "cell_type": "code",
      "metadata": {
        "id": "5q7Z26Lme0Y8",
        "colab_type": "code",
        "colab": {}
      },
      "source": [
        ""
      ],
      "execution_count": 0,
      "outputs": []
    },
    {
      "cell_type": "markdown",
      "metadata": {
        "id": "E2ssFD1qctdZ",
        "colab_type": "text"
      },
      "source": [
        "2.\n",
        "Implement List comprehensions to produce the following lists.\n",
        "Write List comprehensions to produce the following Lists\n",
        "['A', 'C', 'A', 'D', 'G', 'I', ’L’, ‘ D’]\n",
        "['x', 'xx', 'xxx', 'xxxx', 'y', 'yy', 'yyy', 'yyyy', 'z', 'zz', 'zzz', 'zzzz']\n",
        "['x', 'y', 'z', 'xx', 'yy', 'zz', 'xx', 'yy', 'zz', 'xxxx', 'yyyy', 'zzzz']\n",
        "[[2], [3], [4], [3], [4], [5], [4], [5], [6]]\n",
        "[[2, 3, 4, 5], [3, 4, 5, 6], [4, 5, 6, 7], [5, 6, 7, 8]]\n",
        "[(1, 1), (2, 1), (3, 1), (1, 2), (2, 2), (3, 2), (1, 3), (2, 3), (3, 3)]"
      ]
    },
    {
      "cell_type": "code",
      "metadata": {
        "id": "MxZbtxD_bz7j",
        "colab_type": "code",
        "colab": {}
      },
      "source": [
        "\"\"\"['A', 'C', 'A', 'D', 'G', 'I', ’L’, ‘ D’]\n",
        "a b c d e f g h i j k  l \n",
        "0 1 2 3 4 5 6 7 8 9 10 11\n",
        "\n",
        "0 2 0 3 6 8 11 3 \"\"\"\n"
      ],
      "execution_count": 0,
      "outputs": []
    },
    {
      "cell_type": "code",
      "metadata": {
        "id": "thdB8f42e1BY",
        "colab_type": "code",
        "colab": {}
      },
      "source": [
        "#['x', 'xx', 'xxx', 'xxxx', 'y', 'yy', 'yyy', 'yyyy', 'z', 'zz', 'zzz', 'zzzz']\n",
        "[chr(i)*j for i in range(ord('x'),ord('z')+1) for j in range(1,5)]"
      ],
      "execution_count": 0,
      "outputs": []
    },
    {
      "cell_type": "code",
      "metadata": {
        "id": "NZ8cLy--b7dk",
        "colab_type": "code",
        "colab": {}
      },
      "source": [
        "#['x', 'y', 'z', 'xx', 'yy', 'zz', 'xx', 'yy', 'zz', 'xxxx', 'yyyy', 'zzzz']\n",
        "[chr(i)*j for j in (1,2,2,4) for i in range(ord('x'),ord('z')+1)]"
      ],
      "execution_count": 0,
      "outputs": []
    },
    {
      "cell_type": "code",
      "metadata": {
        "id": "ht2JTZGwce7w",
        "colab_type": "code",
        "colab": {}
      },
      "source": [
        "#[[2], [3], [4], [3], [4], [5], [4], [5], [6]]\n",
        "'''m=[]\n",
        "\n",
        "for i in range(2,5):\n",
        "  m.append(i)\n",
        "  m.append(i+1)\n",
        "  m.append (i+2)\n",
        "m'''\n",
        "\n",
        "def f(i):\n",
        "  return(i+1)\n",
        "\n",
        "def g(i):\n",
        "  return(i+2)\n",
        "\n",
        "m = [i, f(i), g(i) for i in range(2,5)]\n",
        "m"
      ],
      "execution_count": 0,
      "outputs": []
    },
    {
      "cell_type": "code",
      "metadata": {
        "id": "mIsWXcrbdOtE",
        "colab_type": "code",
        "colab": {}
      },
      "source": [
        "#[[2, 3, 4, 5], [3, 4, 5, 6], [4, 5, 6, 7], [5, 6, 7, 8]]\n"
      ],
      "execution_count": 0,
      "outputs": []
    },
    {
      "cell_type": "code",
      "metadata": {
        "id": "VKe589VEdU1f",
        "colab_type": "code",
        "colab": {}
      },
      "source": [
        "#[(1, 1), (2, 1), (3, 1), (1, 2), (2, 2), (3, 2), (1, 3), (2, 3), (3, 3)]\n"
      ],
      "execution_count": 0,
      "outputs": []
    },
    {
      "cell_type": "markdown",
      "metadata": {
        "id": "hqFmaovrctaW",
        "colab_type": "text"
      },
      "source": [
        "3.\n",
        "Implement a function longestWord() that takes a list of words and returns the longest one."
      ]
    },
    {
      "cell_type": "code",
      "metadata": {
        "id": "RM6fQGt0e13l",
        "colab_type": "code",
        "colab": {}
      },
      "source": [
        ""
      ],
      "execution_count": 0,
      "outputs": []
    },
    {
      "cell_type": "markdown",
      "metadata": {
        "id": "4kU5w-anctXs",
        "colab_type": "text"
      },
      "source": [
        "#Tasks 2"
      ]
    },
    {
      "cell_type": "markdown",
      "metadata": {
        "id": "u2VLOZanctVF",
        "colab_type": "text"
      },
      "source": [
        "1.1\n",
        "Write a Python Program(with class concepts) to find the area of the triangle using the below\n",
        "formula.\n",
        "area = (s*(s-a)*(s-b)*(s-c)) ** 0.5\n",
        "Function to take the length of the sides of triangle from user should be defined in the parent\n",
        "class and function to calculate the area should be defined in subclass"
      ]
    },
    {
      "cell_type": "code",
      "metadata": {
        "id": "d4EZwlaJe2tr",
        "colab_type": "code",
        "colab": {}
      },
      "source": [
        ""
      ],
      "execution_count": 0,
      "outputs": []
    },
    {
      "cell_type": "markdown",
      "metadata": {
        "id": "7-o6alQfctP-",
        "colab_type": "text"
      },
      "source": [
        "1.2\n",
        "Write a function filter_long_words() that takes a list of words and an integer n and returns the list\n",
        "of words that are longer than n"
      ]
    },
    {
      "cell_type": "code",
      "metadata": {
        "id": "S9UP4vxGe8F3",
        "colab_type": "code",
        "colab": {}
      },
      "source": [
        ""
      ],
      "execution_count": 0,
      "outputs": []
    },
    {
      "cell_type": "markdown",
      "metadata": {
        "id": "MbrLv7kldWz7",
        "colab_type": "text"
      },
      "source": [
        "2.1\n",
        "Write a Python program using function concept that maps list of words into a list of integers\n",
        "representing the lengths of the corresponding words​.\n",
        "Hint: ​If a list [ ab,cde,erty] is passed on to the python function output should come as [2,3,4]\n",
        "Here 2,3 and 4 are the lengths of the words in the list."
      ]
    },
    {
      "cell_type": "code",
      "metadata": {
        "id": "Bm_E8tZve9Vd",
        "colab_type": "code",
        "colab": {}
      },
      "source": [
        ""
      ],
      "execution_count": 0,
      "outputs": []
    },
    {
      "cell_type": "markdown",
      "metadata": {
        "id": "22ca3unndZp2",
        "colab_type": "text"
      },
      "source": [
        "2.2\n",
        "Write a Python function which takes a character (i.e. a string of length 1) and returns True if it is\n",
        "a vowel, False otherwise."
      ]
    },
    {
      "cell_type": "code",
      "metadata": {
        "id": "OwEdT2uee-IO",
        "colab_type": "code",
        "colab": {}
      },
      "source": [
        ""
      ],
      "execution_count": 0,
      "outputs": []
    }
  ]
}