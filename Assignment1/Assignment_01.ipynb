{
 "cells": [
  {
   "cell_type": "markdown",
   "metadata": {
    "colab_type": "text",
    "id": "y50U3nBEMQHE"
   },
   "source": [
    "#Task 1"
   ]
  },
  {
   "cell_type": "markdown",
   "metadata": {
    "colab_type": "text",
    "id": "SCHLGMdDM8pC"
   },
   "source": [
    "Write a program which will find all such numbers which are divisible by 7 but are not a multiple\n",
    "of 5, between 2000 and 3200 (both included). The numbers obtained should be printed in a\n",
    "comma-separated sequence on a single line.\n"
   ]
  },
  {
   "cell_type": "code",
   "execution_count": 12,
   "metadata": {
    "colab": {
     "base_uri": "https://localhost:8080/",
     "height": 34
    },
    "colab_type": "code",
    "id": "0TH8GNkhMwiG",
    "outputId": "00ee9008-817f-433c-ee12-0b6f4fcb7e15"
   },
   "outputs": [
    {
     "name": "stdout",
     "output_type": "stream",
     "text": [
      "[2030, 2065, 2100, 2135, 2170, 2205, 2240, 2275, 2310, 2345, 2380, 2415, 2450, 2485, 2520, 2555, 2590, 2625, 2660, 2695, 2730, 2765, 2800, 2835, 2870, 2905, 2940, 2975]\n"
     ]
    }
   ],
   "source": [
    "s = list(range(2000,3001))\n",
    "m=[]\n",
    "for i in s:\n",
    "  if(i%5 ==0 and i%7 == 0):\n",
    "    m.append(i)\n",
    "print(m)"
   ]
  },
  {
   "cell_type": "markdown",
   "metadata": {
    "colab_type": "text",
    "id": "GIRVdtBLQoqL"
   },
   "source": [
    "Write a Python program to accept the user's first and last name and then getting them printed in\n",
    "the the reverse order with a space between first name and last name."
   ]
  },
  {
   "cell_type": "code",
   "execution_count": null,
   "metadata": {
    "colab": {},
    "colab_type": "code",
    "id": "DPsUzloDPu57"
   },
   "outputs": [],
   "source": [
    "f_name = input(\"Enter First name\")\n",
    "l_name = input(\"Enter Last name\")\n",
    "full = f_name + \" \" + l_name\n",
    "rev = []\n",
    "i = len(full)\n",
    "while i > 0:\n",
    "  rev.append(full[i-1])\n",
    "  i -= 1\n",
    "print(''.join(rev))"
   ]
  },
  {
   "cell_type": "markdown",
   "metadata": {
    "colab_type": "text",
    "id": "6fyifFlfnzgR"
   },
   "source": [
    "Write a Python program to find the volume of a sphere with diameter 12 cm.\n",
    "Formula: V=4/3 * π * r^3"
   ]
  },
  {
   "cell_type": "code",
   "execution_count": 30,
   "metadata": {
    "colab": {
     "base_uri": "https://localhost:8080/",
     "height": 34
    },
    "colab_type": "code",
    "id": "feCo-mQZeZ_0",
    "outputId": "9627413b-ed43-42dd-adea-b00dc32b14bd"
   },
   "outputs": [
    {
     "data": {
      "text/plain": [
       "904.7786842338603"
      ]
     },
     "execution_count": 30,
     "metadata": {
      "tags": []
     },
     "output_type": "execute_result"
    }
   ],
   "source": [
    "from math import pi\n",
    "dia = 12\n",
    "r= dia/2\n",
    "vol = 4 / 3 * (pi) * (r**3)\n",
    "vol"
   ]
  },
  {
   "cell_type": "markdown",
   "metadata": {
    "colab_type": "text",
    "id": "41qDCR3YoeKT"
   },
   "source": [
    "#Task 2"
   ]
  },
  {
   "cell_type": "markdown",
   "metadata": {
    "colab_type": "text",
    "id": "vWQ-wIU1ohft"
   },
   "source": [
    "Write a program which accepts a sequence of comma-separated numbers from console and\n",
    "generate a list."
   ]
  },
  {
   "cell_type": "code",
   "execution_count": 31,
   "metadata": {
    "colab": {
     "base_uri": "https://localhost:8080/",
     "height": 51
    },
    "colab_type": "code",
    "id": "CrGTMByPokGV",
    "outputId": "5b3c4ea5-13ab-4a40-9d2d-7d1973aa9dd5"
   },
   "outputs": [
    {
     "name": "stdout",
     "output_type": "stream",
     "text": [
      "Enter Comma separated values5,6,7,89,32,1\n",
      "['5', '6', '7', '89', '32', '1']\n"
     ]
    }
   ],
   "source": [
    "csv = input(\"Enter Comma separated values\")\n",
    "l = csv.split(',')\n",
    "print(l)"
   ]
  },
  {
   "cell_type": "markdown",
   "metadata": {
    "colab_type": "text",
    "id": "3dh3hkKXpuLP"
   },
   "source": [
    "Create the below pattern using nested for loop in Python.\n",
    "*\n",
    "* *\n",
    "* * *\n",
    "* * * *\n",
    "* * * * *\n",
    "* * * *\n",
    "* * *\n",
    "* *\n",
    "*"
   ]
  },
  {
   "cell_type": "code",
   "execution_count": 52,
   "metadata": {
    "colab": {
     "base_uri": "https://localhost:8080/",
     "height": 204
    },
    "colab_type": "code",
    "id": "0DGIrJPEpvuT",
    "outputId": "377e8440-9ccc-438f-ae9d-087f6d055304"
   },
   "outputs": [
    {
     "name": "stdout",
     "output_type": "stream",
     "text": [
      "*\n",
      "**\n",
      "***\n",
      "****\n",
      "*****\n",
      "******\n",
      "*****\n",
      "****\n",
      "***\n",
      "**\n",
      "*\n"
     ]
    }
   ],
   "source": [
    "for i in range(1,7):\n",
    "  if(i<6):\n",
    "    print(\"*\"*i)\n",
    "  elif(i==6):\n",
    "    for j in range (6,0,-1):\n",
    "      print(\"*\"*j)"
   ]
  },
  {
   "cell_type": "markdown",
   "metadata": {
    "colab_type": "text",
    "id": "b3Gsc4IYrpSd"
   },
   "source": [
    "Write a Python program to reverse a word after accepting the input from the user.\n",
    "Sample Output:\n",
    "Input word: AcadGild\n",
    "Output: dilGdacA"
   ]
  },
  {
   "cell_type": "code",
   "execution_count": 39,
   "metadata": {
    "colab": {
     "base_uri": "https://localhost:8080/",
     "height": 51
    },
    "colab_type": "code",
    "id": "ncg2QnqBrsfy",
    "outputId": "7b20ac42-d330-48e5-eceb-120009f5126d"
   },
   "outputs": [
    {
     "name": "stdout",
     "output_type": "stream",
     "text": [
      "sbqjdk\n",
      "kdjqbs\n"
     ]
    }
   ],
   "source": [
    "data = input()\n",
    "\n",
    "rev = []\n",
    "i = len(data)\n",
    "while i > 0:\n",
    "  rev.append(data[i-1])\n",
    "  i -= 1\n",
    "print(''.join(rev))"
   ]
  },
  {
   "cell_type": "markdown",
   "metadata": {
    "colab_type": "text",
    "id": "YbKg_1gKrtLd"
   },
   "source": [
    "Write a Python Program to print the given string in the format specified in the sample output.\n",
    "WE, THE PEOPLE OF INDIA, having solemnly resolved to constitute India into a\n",
    "SOVEREIGN, SOCIALIST, SECULAR, DEMOCRATIC REPUBLIC and to secure to all\n",
    "its citizens\n",
    "Sample Output:\n",
    "WE, THE PEOPLE OF INDIA,\n",
    "  having solemnly resolved to constitute India into a SOVEREIGN, !\n",
    "    SOCIALIST, SECULAR, DEMOCRATIC REPUBLIC\n",
    "      and to secure to all its citizens\n"
   ]
  },
  {
   "cell_type": "code",
   "execution_count": 110,
   "metadata": {
    "colab": {
     "base_uri": "https://localhost:8080/",
     "height": 153
    },
    "colab_type": "code",
    "id": "m-BHMWWRrzek",
    "outputId": "df3c0c38-55e6-4f68-c07f-6f254827f3f4"
   },
   "outputs": [
    {
     "name": "stdout",
     "output_type": "stream",
     "text": [
      " WE, THE PEOPLE OF INDIA, having solemnly resolved to constitute India into a SOVEREIGN, SOCIALIST, SECULAR, DEMOCRATIC REPUBLIC and to secure to all its citizens\n",
      "WE, THE PEOPLE OF INDIA, \n",
      " \n",
      "\t having solemnly resolved to into a \n",
      " \n",
      "\t\t SOVEREIGN, SOCIALIST, SECULAR, DEMOCRATIC REPUBLIC \n",
      " \n",
      "\t\t\t and to secure to all its its citizens\n"
     ]
    }
   ],
   "source": [
    "case = input()\n",
    "split_data = case.split(\" \")\n",
    "j=1\n",
    "end1 = len(split_data)-1\n",
    "for i in range(0,end1):\n",
    "  if(split_data[i].isupper() and split_data[i+1].isupper()):\n",
    "    #all caps\n",
    "    print(split_data[i], end = ' ')\n",
    "  elif( (split_data[i].isupper() and split_data[i+1].islower()) or (split_data[i].islower() and split_data[i+1].isupper())):\n",
    "    #interchanges\n",
    "    print(split_data[i], end = ' ' )\n",
    "    if(j>=1):\n",
    "      print(\"\\n \")\n",
    "      print(\"\\t\"*j, end = \" \")\n",
    "      j+=1\n",
    "  elif(split_data[i].islower() and split_data[i+1].islower()):\n",
    "    #all lower\n",
    "    print(split_data[i],end = ' ')\n",
    "  if(i==end1-1):\n",
    "    print(split_data[i], split_data[i+1])"
   ]
  }
 ],
 "metadata": {
  "colab": {
   "name": "Assignment 01.ipynb",
   "provenance": []
  },
  "kernelspec": {
   "display_name": "Python 3",
   "language": "python",
   "name": "python3"
  },
  "language_info": {
   "codemirror_mode": {
    "name": "ipython",
    "version": 3
   },
   "file_extension": ".py",
   "mimetype": "text/x-python",
   "name": "python",
   "nbconvert_exporter": "python",
   "pygments_lexer": "ipython3",
   "version": "3.7.6"
  }
 },
 "nbformat": 4,
 "nbformat_minor": 4
}
